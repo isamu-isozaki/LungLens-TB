{
 "cells": [
  {
   "cell_type": "code",
   "execution_count": 2,
   "metadata": {},
   "outputs": [
    {
     "name": "stdout",
     "output_type": "stream",
     "text": [
      "An error occurred: Got unknown type {'role': 'system', 'content': 'Given the following radiology report text, provide a paragraph summarizing what the report says in an 8th-grade level and patient-friendly manner.'}\n",
      "An error occurred while generating the summary. Please try again later.\n"
     ]
    }
   ],
   "source": [
    "import sys\n",
    "import os\n",
    "\n",
    "# Add the parent folder to sys.path\n",
    "sys.path.append('..')\n",
    "\n",
    "from ChatPatient import ChatPatient\n",
    "\n",
    "cp = ChatPatient()\n",
    "\n",
    "radiology_report = \"\"\"No acute cardiopulmonary findings. Specifically, no radiographic evidence of active tuberculosis.\"\n",
    "Old granulomatous disease. No acute pulmonary disease.\n",
    "Large right pleural effusion and patchy left lower lobe airspace disease.\n",
    "1. No acute cardiopulmonary disease\n",
    "Heart size normal. Lungs clear. No edema or effusions.\n",
    "1. No acute cardiopulmonary abnormality. 2. No evidence of active or changes from chronic tuberculosis infection.\n",
    "Chest. Resolving pulmonary interstitial edema and pulmonary venous hypertension.\n",
    "Patchy right lower lobe infiltrate as well as probable left basilar infiltrate versus atelectasis.\n",
    "1. No evidence of active disease.\n",
    "1. No acute pulmonary abnormality.\"\"\"\n",
    "\n",
    "patient_friendly_text = cp.get_friendly_text(radiology_report)\n",
    "\n",
    "\n",
    "print(patient_friendly_text)"
   ]
  },
  {
   "cell_type": "code",
   "execution_count": 5,
   "metadata": {},
   "outputs": [
    {
     "data": {
      "text/plain": [
       "\"J'aime la programmation.\""
      ]
     },
     "execution_count": 5,
     "metadata": {},
     "output_type": "execute_result"
    }
   ],
   "source": [
    "from langchain_core.messages import HumanMessage, SystemMessage\n",
    "from langchain_core.prompts import ChatPromptTemplate\n",
    "from langchain_openai import ChatOpenAI\n",
    "\n",
    "llm = ChatOpenAI(model=\"gpt-4-1106-preview\", temperature=0)\n",
    "\n",
    "messages = [\n",
    "    (\"system\", \"You are a helpful assistant that translates English to French.\"),\n",
    "    (\"human\", \"Translate this sentence from English to French. I love programming.\"),\n",
    "]\n",
    "\n",
    "\n",
    "llm.invoke(messages).content"
   ]
  },
  {
   "cell_type": "code",
   "execution_count": null,
   "metadata": {},
   "outputs": [],
   "source": []
  }
 ],
 "metadata": {
  "kernelspec": {
   "display_name": "ve-m",
   "language": "python",
   "name": "python3"
  },
  "language_info": {
   "codemirror_mode": {
    "name": "ipython",
    "version": 3
   },
   "file_extension": ".py",
   "mimetype": "text/x-python",
   "name": "python",
   "nbconvert_exporter": "python",
   "pygments_lexer": "ipython3",
   "version": "3.10.13"
  }
 },
 "nbformat": 4,
 "nbformat_minor": 2
}
